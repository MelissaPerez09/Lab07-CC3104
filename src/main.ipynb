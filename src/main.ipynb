{
 "cells": [
  {
   "cell_type": "markdown",
   "id": "11621cfc",
   "metadata": {},
   "source": [
    "## Laboratorio 07\n",
    "\n",
    "- Sara Echeverría \n",
    "- Ricardo Méndez   \n",
    "- Melissa Pérez \n",
    "\n",
    "Repositorio: https://github.com/MelissaPerez09/Lab07-CC3104"
   ]
  },
  {
   "cell_type": "markdown",
   "id": "368dac87",
   "metadata": {},
   "source": [
    "### Task 01\n",
    "**Explique la diferencia entre los métodos de aprendizaje de refuerzo basados en valores y en políticas.**\n",
    "- Los métodos basados en valores buscan aprender una función que estime qué tan buena es una acción en un estado y luego eligen la mejor acción comparando esos valores. A partir de ellas derivan una política que elige las mejores acciones.\n",
    "- Los métodos basados en políticas aprenden directamente de una política parametrizada que indica cómo actuar en cada estado sin necesidad de comparar entre todas las posibles. \n",
    "\n",
    "**¿Por qué los métodos de gradiente de políticas son especialmente útiles para entornos con espacios de acción continua?**\n",
    "- Porque permiten generar acciones optimizadas en el comportamiento sin tener la necesidad de evaluar y compara un número de acciones. "
   ]
  },
  {
   "cell_type": "markdown",
   "id": "44dc968c",
   "metadata": {},
   "source": [
    "### Task 02"
   ]
  },
  {
   "cell_type": "code",
   "execution_count": 1,
   "id": "56e0b2ca",
   "metadata": {},
   "outputs": [],
   "source": [
    "import gymnasium as gym\n",
    "import numpy as np"
   ]
  },
  {
   "cell_type": "code",
   "execution_count": 2,
   "id": "4d4e8f3c",
   "metadata": {},
   "outputs": [],
   "source": [
    "env = gym.make(\"CartPole-v1\")\n",
    "state_dim = env.observation_space.shape[0]\n",
    "action_dim = env.action_space.n\n",
    "\n",
    "alpha = 0.01   # tasa de aprendizaje política\n",
    "beta = 0.05    # tasa de aprendizaje valor\n",
    "gamma = 0.99   # factor de descuento\n",
    "\n",
    "\n",
    "theta = np.random.randn(state_dim, action_dim) * 0.01\n",
    "w = np.zeros(state_dim)"
   ]
  },
  {
   "cell_type": "code",
   "execution_count": 3,
   "id": "f27a6e93",
   "metadata": {},
   "outputs": [],
   "source": [
    "def get_probs(state):\n",
    "    z = state @ theta\n",
    "    exp = np.exp(z - np.max(z))\n",
    "    return exp / np.sum(exp)\n",
    "\n",
    "def sample_action(state):\n",
    "    probs = get_probs(state)\n",
    "    return np.random.choice(len(probs), p=probs)\n",
    "\n",
    "def value(state):\n",
    "    return state @ w"
   ]
  }
 ],
 "metadata": {
  "kernelspec": {
   "display_name": ".venv (3.11.10)",
   "language": "python",
   "name": "python3"
  },
  "language_info": {
   "codemirror_mode": {
    "name": "ipython",
    "version": 3
   },
   "file_extension": ".py",
   "mimetype": "text/x-python",
   "name": "python",
   "nbconvert_exporter": "python",
   "pygments_lexer": "ipython3",
   "version": "3.11.10"
  }
 },
 "nbformat": 4,
 "nbformat_minor": 5
}
