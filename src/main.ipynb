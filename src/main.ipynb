{
 "cells": [
  {
   "cell_type": "markdown",
   "id": "11621cfc",
   "metadata": {},
   "source": [
    "## Laboratorio 07\n",
    "\n",
    "- Sara Echeverría \n",
    "- Ricardo Méndez   \n",
    "- Melissa Pérez \n",
    "\n",
    "Repositorio: https://github.com/MelissaPerez09/Lab07-CC3104"
   ]
  },
  {
   "cell_type": "markdown",
   "id": "368dac87",
   "metadata": {},
   "source": [
    "### Task 01\n",
    "**Explique la diferencia entre los métodos de aprendizaje de refuerzo basados en valores y en políticas.**\n",
    "- Los métodos basados en valores buscan aprender una función que estime qué tan buena es una acción en un estado y luego eligen la mejor acción comparando esos valores. A partir de ellas derivan una política que elige las mejores acciones.\n",
    "- Los métodos basados en políticas aprenden directamente de una política parametrizada que indica cómo actuar en cada estado sin necesidad de comparar entre todas las posibles. \n",
    "\n",
    "**¿Por qué los métodos de gradiente de políticas son especialmente útiles para entornos con espacios de acción continua?**\n",
    "- Porque permiten generar acciones optimizadas en el comportamiento sin tener la necesidad de evaluar y compara un número de acciones. "
   ]
  }
 ],
 "metadata": {
  "language_info": {
   "name": "python"
  }
 },
 "nbformat": 4,
 "nbformat_minor": 5
}
